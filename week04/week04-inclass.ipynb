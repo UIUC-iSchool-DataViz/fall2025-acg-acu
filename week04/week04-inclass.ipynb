{
 "cells": [
  {
   "cell_type": "markdown",
   "id": "072b6eb6-febf-48e5-a7e9-34d6bf8e79b9",
   "metadata": {},
   "source": [
    "# Fonts a lot bigger"
   ]
  },
  {
   "cell_type": "code",
   "execution_count": 1,
   "id": "34fdb098-f056-4a22-bd2a-2b911fdc1708",
   "metadata": {},
   "outputs": [],
   "source": [
    "import traitlets"
   ]
  },
  {
   "cell_type": "code",
   "execution_count": 4,
   "id": "b6ff044c-a075-4fa6-a5a5-36fe7d20754b",
   "metadata": {},
   "outputs": [],
   "source": [
    "class MusicAlbum(traitlets.HasTraits):\n",
    "    name = traitlets.Unicode()\n",
    "    artist = traitlets.Unicode()\n",
    "    year = traitlets.Int()"
   ]
  },
  {
   "cell_type": "code",
   "execution_count": 5,
   "id": "e097f09c-aca6-4005-bc6f-f6f9676cf51d",
   "metadata": {},
   "outputs": [],
   "source": [
    "t1989 = MusicAlbum(name = \"1989 (Taylor's Version)\", artist = \"Taylor Swift\", year = 2023)"
   ]
  },
  {
   "cell_type": "code",
   "execution_count": 6,
   "id": "2ad38fc8-40b2-4e22-a2da-81a3b7752cbc",
   "metadata": {},
   "outputs": [
    {
     "data": {
      "text/plain": [
       "\"1989 (Taylor's Version)\""
      ]
     },
     "execution_count": 6,
     "metadata": {},
     "output_type": "execute_result"
    }
   ],
   "source": [
    "t1989.name"
   ]
  },
  {
   "cell_type": "code",
   "execution_count": 8,
   "id": "26c00c36-2241-482e-af59-e66e282af0aa",
   "metadata": {},
   "outputs": [],
   "source": [
    "def name_changed(change):\n",
    "    print(\"The name has changed from \", change['old'], \" to \", change['new'])\n",
    "t1989.observe(name_changed, [\"name\"])"
   ]
  },
  {
   "cell_type": "code",
   "execution_count": 9,
   "id": "c747b971-38a4-4ae8-90b7-7bb1accdd430",
   "metadata": {},
   "outputs": [
    {
     "name": "stdout",
     "output_type": "stream",
     "text": [
      "The name has changed from  1989 (Taylor's Version)  to  1989 (Taylor's Version (Taylor's Version))\n"
     ]
    }
   ],
   "source": [
    "t1989.name = \"1989 (Taylor's Version (Taylor's Version))\""
   ]
  },
  {
   "cell_type": "code",
   "execution_count": 10,
   "id": "51d96fca-a0c8-493d-9937-f33b03e0b8c4",
   "metadata": {},
   "outputs": [
    {
     "data": {
      "text/plain": [
       "\"1989 (Taylor's Version (Taylor's Version))\""
      ]
     },
     "execution_count": 10,
     "metadata": {},
     "output_type": "execute_result"
    }
   ],
   "source": [
    "t1989.name"
   ]
  },
  {
   "cell_type": "code",
   "execution_count": 12,
   "id": "6fd3a724-8061-4492-ad15-b99a147d4c62",
   "metadata": {},
   "outputs": [
    {
     "name": "stdout",
     "output_type": "stream",
     "text": [
      "The name has changed from  1989 (Taylor's Version (Taylor's Version))  to  1989 (Taylor's Version)\n"
     ]
    }
   ],
   "source": [
    "t1989.name = \"1989 (Taylor's Version)\""
   ]
  },
  {
   "cell_type": "code",
   "execution_count": 16,
   "id": "07b488e7-5b4c-44a1-b381-c97c866b2178",
   "metadata": {},
   "outputs": [],
   "source": [
    "import random"
   ]
  },
  {
   "cell_type": "code",
   "execution_count": 17,
   "id": "a62c5275-83f3-4c83-a5f0-fada087ec7f5",
   "metadata": {},
   "outputs": [],
   "source": [
    "class Student(traitlets.HasTraits):\n",
    "    name = traitlets.Unicode()\n",
    "    row_and_seat = traitlets.Tuple(\n",
    "                        traitlets.Unicode(),\n",
    "                        traitlets.Int()\n",
    "                    )\n",
    "\n",
    "    @traitlets.default(\"row_and_seat\")\n",
    "    def random(self):\n",
    "        return (random.choice(\"ABCDEFG\"),\n",
    "                random.randint(1, 15))"
   ]
  },
  {
   "cell_type": "code",
   "execution_count": 18,
   "id": "21000820-06ba-4911-b21b-d1e5242e9ab4",
   "metadata": {},
   "outputs": [],
   "source": [
    "s1 = Student(name = \"Matt\")\n",
    "s2 = Student(name = \"Esther\")\n",
    "s3 = Student(name = \"Unknown\")"
   ]
  },
  {
   "cell_type": "code",
   "execution_count": 19,
   "id": "4ddadd51-6251-4d95-8183-f7fa3d5349b9",
   "metadata": {},
   "outputs": [
    {
     "data": {
      "text/plain": [
       "('C', 10)"
      ]
     },
     "execution_count": 19,
     "metadata": {},
     "output_type": "execute_result"
    }
   ],
   "source": [
    "s1.row_and_seat"
   ]
  },
  {
   "cell_type": "code",
   "execution_count": 22,
   "id": "6dcbd6f8-67be-487b-9810-3fa4abb6c59b",
   "metadata": {},
   "outputs": [
    {
     "data": {
      "text/plain": [
       "('G', 1)"
      ]
     },
     "execution_count": 22,
     "metadata": {},
     "output_type": "execute_result"
    }
   ],
   "source": [
    "s2.row_and_seat"
   ]
  },
  {
   "cell_type": "code",
   "execution_count": 21,
   "id": "d9c7e579-66fa-4efa-a2a7-7b39135590ae",
   "metadata": {},
   "outputs": [
    {
     "data": {
      "text/plain": [
       "('C', 8)"
      ]
     },
     "execution_count": 21,
     "metadata": {},
     "output_type": "execute_result"
    }
   ],
   "source": [
    "s3.row_and_seat"
   ]
  },
  {
   "cell_type": "code",
   "execution_count": 23,
   "id": "39369a9f-9389-4a11-b3b0-f155e67bdd50",
   "metadata": {},
   "outputs": [],
   "source": [
    "s4 = Student()"
   ]
  },
  {
   "cell_type": "code",
   "execution_count": 24,
   "id": "3c0a2043-da1d-42c5-98b7-7beb5eaaee73",
   "metadata": {},
   "outputs": [
    {
     "data": {
      "text/plain": [
       "<traitlets.traitlets.link at 0x7fdcc6a07910>"
      ]
     },
     "execution_count": 24,
     "metadata": {},
     "output_type": "execute_result"
    }
   ],
   "source": [
    "traitlets.link( (s1, \"name\"), (s4, \"name\") )"
   ]
  },
  {
   "cell_type": "code",
   "execution_count": 25,
   "id": "8b58380d-52df-427b-a977-89326cea7a31",
   "metadata": {},
   "outputs": [
    {
     "data": {
      "text/plain": [
       "'Matt'"
      ]
     },
     "execution_count": 25,
     "metadata": {},
     "output_type": "execute_result"
    }
   ],
   "source": [
    "s4.name"
   ]
  },
  {
   "cell_type": "code",
   "execution_count": 29,
   "id": "306585b9-6700-4f89-914e-b34a9ae3363f",
   "metadata": {},
   "outputs": [],
   "source": [
    "s1.name = \"Not Matt\""
   ]
  },
  {
   "cell_type": "code",
   "execution_count": 30,
   "id": "a16cbb2c-b07c-4974-8010-241786979c86",
   "metadata": {},
   "outputs": [
    {
     "data": {
      "text/plain": [
       "'Not Matt'"
      ]
     },
     "execution_count": 30,
     "metadata": {},
     "output_type": "execute_result"
    }
   ],
   "source": [
    "s1.name"
   ]
  },
  {
   "cell_type": "code",
   "execution_count": 31,
   "id": "40ce78d0-56e1-4cf1-9771-723e0a5484ed",
   "metadata": {},
   "outputs": [
    {
     "data": {
      "text/plain": [
       "'Not Matt'"
      ]
     },
     "execution_count": 31,
     "metadata": {},
     "output_type": "execute_result"
    }
   ],
   "source": [
    "s4.name"
   ]
  },
  {
   "cell_type": "code",
   "execution_count": 32,
   "id": "80735b36-09aa-48c2-a631-c50efebd88a6",
   "metadata": {},
   "outputs": [],
   "source": [
    "s4.name = \"Matt\""
   ]
  },
  {
   "cell_type": "code",
   "execution_count": 33,
   "id": "4cef361a-6d7b-4dbd-9558-934253239931",
   "metadata": {},
   "outputs": [
    {
     "data": {
      "text/plain": [
       "'Matt'"
      ]
     },
     "execution_count": 33,
     "metadata": {},
     "output_type": "execute_result"
    }
   ],
   "source": [
    "s1.name"
   ]
  },
  {
   "cell_type": "code",
   "execution_count": 34,
   "id": "b9f2756c-4ba4-4600-9d2f-32bb9dfc75c4",
   "metadata": {},
   "outputs": [],
   "source": [
    "import ipywidgets"
   ]
  },
  {
   "cell_type": "code",
   "execution_count": 35,
   "id": "a7e5c4f5-0d82-4707-84d3-13f0dc7cc433",
   "metadata": {},
   "outputs": [
    {
     "data": {
      "application/vnd.jupyter.widget-view+json": {
       "model_id": "f91954d32dfe4adda1eb6776963c89bd",
       "version_major": 2,
       "version_minor": 0
      },
      "text/plain": [
       "interactive(children=(Dropdown(description='winner', options=('Philadelphia', 'Kansas City'), value='Philadelp…"
      ]
     },
     "metadata": {},
     "output_type": "display_data"
    }
   ],
   "source": [
    "@ipywidgets.interact( winner = [\"Philadelphia\", \"Kansas City\"] )\n",
    "def say_winner(winner):\n",
    "    print(\"The winner was: \", winner)"
   ]
  },
  {
   "cell_type": "code",
   "execution_count": 42,
   "id": "a5c9fe86-6a3e-439d-9b08-7d12e615012e",
   "metadata": {},
   "outputs": [
    {
     "data": {
      "application/vnd.jupyter.widget-view+json": {
       "model_id": "57703262b0dd4a2faeeceaa88ba72f20",
       "version_major": 2,
       "version_minor": 0
      },
      "text/plain": [
       "interactive(children=(Dropdown(description='winner', options=('Philadelphia', 'Kansas City'), value='Philadelp…"
      ]
     },
     "metadata": {},
     "output_type": "display_data"
    }
   ],
   "source": [
    "@ipywidgets.interact( winner = [\"Philadelphia\", \"Kansas City\"], phil_score = (0, 100), kc_score = (0, 100) )\n",
    "def say_winner(winner, phil_score, kc_score):\n",
    "    print(\"The winner was: \", winner, \"with a final score of \", phil_score, \"to\", kc_score)"
   ]
  },
  {
   "cell_type": "code",
   "execution_count": 43,
   "id": "64a71108-52c5-4408-93ca-59c3f017353a",
   "metadata": {},
   "outputs": [],
   "source": [
    "import matplotlib.pyplot as plt"
   ]
  },
  {
   "cell_type": "code",
   "execution_count": 47,
   "id": "655c57e4-0f8f-4085-a05f-f2ad2b632be9",
   "metadata": {},
   "outputs": [
    {
     "data": {
      "application/vnd.jupyter.widget-view+json": {
       "model_id": "683cdc3da1ea4f93b82f36fced5785f5",
       "version_major": 2,
       "version_minor": 0
      },
      "text/plain": [
       "interactive(children=(Dropdown(description='style', options=('Solarize_Light2', '_classic_test_patch', '_mpl-g…"
      ]
     },
     "metadata": {},
     "output_type": "display_data"
    }
   ],
   "source": [
    "@ipywidgets.interact(style = plt.style.available)\n",
    "def make_plot(style):\n",
    "    with plt.style.context(style):\n",
    "        plt.plot([1,2,3,4], [5,6,7,5])"
   ]
  },
  {
   "cell_type": "code",
   "execution_count": 48,
   "id": "efdaab9d-e84e-4090-895e-30a42f3f2198",
   "metadata": {},
   "outputs": [],
   "source": [
    "intslider = ipywidgets.IntSlider()"
   ]
  },
  {
   "cell_type": "code",
   "execution_count": 49,
   "id": "d8ef6668-7300-4b60-8f2c-636b97b8a1ea",
   "metadata": {},
   "outputs": [
    {
     "data": {
      "application/vnd.jupyter.widget-view+json": {
       "model_id": "f206522ca170429f9c0eca2e28238486",
       "version_major": 2,
       "version_minor": 0
      },
      "text/plain": [
       "IntSlider(value=0)"
      ]
     },
     "execution_count": 49,
     "metadata": {},
     "output_type": "execute_result"
    }
   ],
   "source": [
    "intslider"
   ]
  },
  {
   "cell_type": "code",
   "execution_count": 52,
   "id": "a49a9ee3-19d9-47be-b49e-ad99d289478e",
   "metadata": {},
   "outputs": [
    {
     "data": {
      "text/plain": [
       "63"
      ]
     },
     "execution_count": 52,
     "metadata": {},
     "output_type": "execute_result"
    }
   ],
   "source": [
    "intslider.value"
   ]
  },
  {
   "cell_type": "code",
   "execution_count": 53,
   "id": "5b4f235c-21b8-43a1-b782-28e9e0684808",
   "metadata": {},
   "outputs": [
    {
     "data": {
      "application/vnd.jupyter.widget-view+json": {
       "model_id": "f206522ca170429f9c0eca2e28238486",
       "version_major": 2,
       "version_minor": 0
      },
      "text/plain": [
       "IntSlider(value=63)"
      ]
     },
     "execution_count": 53,
     "metadata": {},
     "output_type": "execute_result"
    }
   ],
   "source": [
    "intslider"
   ]
  },
  {
   "cell_type": "code",
   "execution_count": 54,
   "id": "6f939073-7831-434e-91f5-aed40a6f2f9f",
   "metadata": {},
   "outputs": [],
   "source": [
    "inttext = ipywidgets.IntText()"
   ]
  },
  {
   "cell_type": "code",
   "execution_count": 55,
   "id": "0338fa2b-315c-4b7c-b481-ba72ead6f81e",
   "metadata": {},
   "outputs": [
    {
     "data": {
      "application/vnd.jupyter.widget-view+json": {
       "model_id": "dde8c1a6a4364ef985adc1993c8d5deb",
       "version_major": 2,
       "version_minor": 0
      },
      "text/plain": [
       "IntText(value=0)"
      ]
     },
     "execution_count": 55,
     "metadata": {},
     "output_type": "execute_result"
    }
   ],
   "source": [
    "inttext"
   ]
  },
  {
   "cell_type": "code",
   "execution_count": 56,
   "id": "bf54468d-18c2-4193-8017-43edc514dc3f",
   "metadata": {},
   "outputs": [
    {
     "data": {
      "text/plain": [
       "<traitlets.traitlets.link at 0x7fdca58c1b50>"
      ]
     },
     "execution_count": 56,
     "metadata": {},
     "output_type": "execute_result"
    }
   ],
   "source": [
    "traitlets.link( ( inttext, \"value\"), (intslider, \"value\"))"
   ]
  },
  {
   "cell_type": "code",
   "execution_count": 60,
   "id": "13b54b92-6d59-4d85-9399-8a248cf66b31",
   "metadata": {},
   "outputs": [],
   "source": [
    "intslider.max = 1000"
   ]
  },
  {
   "cell_type": "code",
   "execution_count": 64,
   "id": "3fb42136-091a-4b8e-9b1f-dd9b69363203",
   "metadata": {},
   "outputs": [
    {
     "data": {
      "application/vnd.jupyter.widget-view+json": {
       "model_id": "fd3cc0e642e546148cca8fe77243bd8b",
       "version_major": 2,
       "version_minor": 0
      },
      "text/plain": [
       "SelectionSlider(options=('hi', 'option', 'choice', 'thing'), value='hi')"
      ]
     },
     "execution_count": 64,
     "metadata": {},
     "output_type": "execute_result"
    }
   ],
   "source": [
    "ipywidgets.SelectionSlider(options = [\"hi\", \"option\", \"choice\", \"thing\"])"
   ]
  },
  {
   "cell_type": "code",
   "execution_count": 66,
   "id": "d7d65db5-7dac-4956-86b4-b158a34f3e5c",
   "metadata": {},
   "outputs": [],
   "source": [
    "ta = ipywidgets.Textarea()"
   ]
  },
  {
   "cell_type": "code",
   "execution_count": 67,
   "id": "94830c2b-13f3-479f-8498-89ce829491c2",
   "metadata": {},
   "outputs": [
    {
     "data": {
      "application/vnd.jupyter.widget-view+json": {
       "model_id": "102e7f9b7bb7470194d6ca99c010f261",
       "version_major": 2,
       "version_minor": 0
      },
      "text/plain": [
       "Textarea(value='')"
      ]
     },
     "execution_count": 67,
     "metadata": {},
     "output_type": "execute_result"
    }
   ],
   "source": [
    "ta"
   ]
  },
  {
   "cell_type": "code",
   "execution_count": 68,
   "id": "338b4e30-8b65-4c6b-81b8-0a87c6d147ec",
   "metadata": {},
   "outputs": [
    {
     "data": {
      "application/vnd.jupyter.widget-view+json": {
       "model_id": "102e7f9b7bb7470194d6ca99c010f261",
       "version_major": 2,
       "version_minor": 0
      },
      "text/plain": [
       "Textarea(value='')"
      ]
     },
     "execution_count": 68,
     "metadata": {},
     "output_type": "execute_result"
    }
   ],
   "source": [
    "ta"
   ]
  },
  {
   "cell_type": "code",
   "execution_count": 70,
   "id": "4f7c3e33-e4a0-4cfb-aea2-9af291a809ad",
   "metadata": {},
   "outputs": [
    {
     "data": {
      "application/vnd.jupyter.widget-view+json": {
       "model_id": "cd221c0a11f84cda9559e41d4f36c323",
       "version_major": 2,
       "version_minor": 0
      },
      "text/plain": [
       "HBox(children=(Textarea(value=''), VBox(children=(IntSlider(value=0), IntText(value=0)))))"
      ]
     },
     "execution_count": 70,
     "metadata": {},
     "output_type": "execute_result"
    }
   ],
   "source": [
    "ipywidgets.HBox( [\n",
    "  ipywidgets.Textarea(),\n",
    "    ipywidgets.VBox([\n",
    "        ipywidgets.IntSlider(),\n",
    "        ipywidgets.IntText()\n",
    "    ])\n",
    "])"
   ]
  },
  {
   "cell_type": "code",
   "execution_count": 72,
   "id": "11a24c61-95a3-48b6-948f-ad4e654811dd",
   "metadata": {},
   "outputs": [
    {
     "data": {
      "application/vnd.jupyter.widget-view+json": {
       "model_id": "b350bf6061f24a568319c23959c213bc",
       "version_major": 2,
       "version_minor": 0
      },
      "text/plain": [
       "HTML(value='<table><tr><td>Cell 1</td><td>Cell 2</td></tr><tr><td>Row 2 Cell 1</td><td>Row 2 Cell 2</td></tr><…"
      ]
     },
     "execution_count": 72,
     "metadata": {},
     "output_type": "execute_result"
    }
   ],
   "source": [
    "ipywidgets.HTML(\n",
    "    \"<table><tr><td>Cell 1</td><td>Cell 2</td></tr><tr><td>Row 2 Cell 1</td><td>Row 2 Cell 2</td></tr></table>\"\n",
    ")"
   ]
  },
  {
   "cell_type": "code",
   "execution_count": 73,
   "id": "7d067e04-f168-4840-b248-67238f121753",
   "metadata": {},
   "outputs": [],
   "source": [
    "html = ipywidgets.HTML()"
   ]
  },
  {
   "cell_type": "code",
   "execution_count": 74,
   "id": "2eda92b9-3988-415f-af3d-ddc6612d3759",
   "metadata": {},
   "outputs": [
    {
     "data": {
      "application/vnd.jupyter.widget-view+json": {
       "model_id": "630d8aa215e74899bc3c0570b7b61010",
       "version_major": 2,
       "version_minor": 0
      },
      "text/plain": [
       "HTML(value='')"
      ]
     },
     "execution_count": 74,
     "metadata": {},
     "output_type": "execute_result"
    }
   ],
   "source": [
    "html"
   ]
  },
  {
   "cell_type": "code",
   "execution_count": 75,
   "id": "cd602e04-7f44-43f9-b9ad-d9a6fb0a0c22",
   "metadata": {},
   "outputs": [],
   "source": [
    "ta = ipywidgets.Textarea()"
   ]
  },
  {
   "cell_type": "code",
   "execution_count": 76,
   "id": "047ae046-de75-40fb-9b91-94683eb7b170",
   "metadata": {},
   "outputs": [
    {
     "data": {
      "text/plain": [
       "<traitlets.traitlets.link at 0x7fdca5a7bc50>"
      ]
     },
     "execution_count": 76,
     "metadata": {},
     "output_type": "execute_result"
    }
   ],
   "source": [
    "traitlets.link((ta, \"value\"), (html, \"value\"))"
   ]
  },
  {
   "cell_type": "code",
   "execution_count": 77,
   "id": "5702392c-02b2-495b-b961-8b3b8511fae5",
   "metadata": {},
   "outputs": [
    {
     "data": {
      "application/vnd.jupyter.widget-view+json": {
       "model_id": "9ab549de38ea4ae889f5626e741dca8d",
       "version_major": 2,
       "version_minor": 0
      },
      "text/plain": [
       "Textarea(value='')"
      ]
     },
     "execution_count": 77,
     "metadata": {},
     "output_type": "execute_result"
    }
   ],
   "source": [
    "ta"
   ]
  },
  {
   "cell_type": "code",
   "execution_count": 84,
   "id": "295d4679-b986-4013-a4c4-e5954bac99c5",
   "metadata": {},
   "outputs": [],
   "source": [
    "button = ipywidgets.Button(description=\"Increment\")"
   ]
  },
  {
   "cell_type": "code",
   "execution_count": 85,
   "id": "91d37ea9-2b62-40f0-adf8-9a98c8a56a59",
   "metadata": {},
   "outputs": [],
   "source": [
    "pbar = ipywidgets.IntProgress()"
   ]
  },
  {
   "cell_type": "code",
   "execution_count": 88,
   "id": "eeec3bf7-74fa-49f4-935c-19c0c577ed26",
   "metadata": {},
   "outputs": [],
   "source": [
    "def increment_progress(event):\n",
    "    pbar.value = pbar.value + 1\n",
    "button.on_click(increment_progress)"
   ]
  },
  {
   "cell_type": "code",
   "execution_count": 89,
   "id": "ab604da1-0652-462c-946b-d284835f8473",
   "metadata": {},
   "outputs": [
    {
     "data": {
      "application/vnd.jupyter.widget-view+json": {
       "model_id": "bf4188bc7dad4f428114dbbf0dbca656",
       "version_major": 2,
       "version_minor": 0
      },
      "text/plain": [
       "HBox(children=(IntProgress(value=0), Button(description='Increment', style=ButtonStyle())))"
      ]
     },
     "execution_count": 89,
     "metadata": {},
     "output_type": "execute_result"
    }
   ],
   "source": [
    "ipywidgets.HBox([pbar, button])"
   ]
  },
  {
   "cell_type": "code",
   "execution_count": 92,
   "id": "94e64d4f-8960-4ab1-86f6-e9f8c6556734",
   "metadata": {},
   "outputs": [
    {
     "data": {
      "text/plain": [
       "100"
      ]
     },
     "execution_count": 92,
     "metadata": {},
     "output_type": "execute_result"
    }
   ],
   "source": [
    "pbar.value"
   ]
  },
  {
   "cell_type": "code",
   "execution_count": 91,
   "id": "f3866b00-23c3-4ed9-ad6c-40a0866b1467",
   "metadata": {},
   "outputs": [],
   "source": [
    "pbar.value = 90"
   ]
  },
  {
   "cell_type": "code",
   "execution_count": 93,
   "id": "48a118a0-db7f-4022-a45e-83958ff3070d",
   "metadata": {},
   "outputs": [],
   "source": [
    "import time"
   ]
  },
  {
   "cell_type": "code",
   "execution_count": 94,
   "id": "6ba1dd42-fcb7-48c0-8284-60480b4b76fc",
   "metadata": {},
   "outputs": [],
   "source": [
    "for i in range(101):\n",
    "    pbar.value = i\n",
    "    time.sleep(0.1)"
   ]
  },
  {
   "cell_type": "code",
   "execution_count": 95,
   "id": "286fc34c-fa24-4f6c-868e-c7dea1fad730",
   "metadata": {},
   "outputs": [],
   "source": [
    "import bqplot"
   ]
  },
  {
   "cell_type": "code",
   "execution_count": 96,
   "id": "31a7ed59-ff59-4363-9188-4770fab323d1",
   "metadata": {},
   "outputs": [],
   "source": [
    "import numpy as np"
   ]
  },
  {
   "cell_type": "code",
   "execution_count": 97,
   "id": "9d7131cd-ea89-401b-a673-d89281f8d2fd",
   "metadata": {},
   "outputs": [],
   "source": [
    "x = np.mgrid[0.0:10.0:256j]\n",
    "y = np.sin(x)"
   ]
  },
  {
   "cell_type": "code",
   "execution_count": 98,
   "id": "9622ef2b-2c7e-4b13-898d-4bfb20925c5b",
   "metadata": {},
   "outputs": [],
   "source": [
    "x_sc = bqplot.LinearScale()\n",
    "y_sc = bqplot.LinearScale()"
   ]
  },
  {
   "cell_type": "code",
   "execution_count": 111,
   "id": "79186aee-3462-4e6e-b058-9418df3ae8b6",
   "metadata": {},
   "outputs": [],
   "source": [
    "x_ax = bqplot.Axis(scale = x_sc)\n",
    "y_ax = bqplot.Axis(scale = y_sc, orientation = 'vertical')"
   ]
  },
  {
   "cell_type": "code",
   "execution_count": 112,
   "id": "861b140a-e859-47d0-97d1-d571bb970dc2",
   "metadata": {},
   "outputs": [],
   "source": [
    "lines = bqplot.Lines(x = x, y = y, scales = {'x': x_sc, 'y': y_sc})"
   ]
  },
  {
   "cell_type": "code",
   "execution_count": 113,
   "id": "f5fad7d3-a315-4547-a57a-6549c902877a",
   "metadata": {},
   "outputs": [],
   "source": [
    "fig = bqplot.Figure(marks = [lines], axes = [x_ax, y_ax])"
   ]
  },
  {
   "cell_type": "code",
   "execution_count": 114,
   "id": "85559d97-6274-4f02-8ace-077ed4fec582",
   "metadata": {},
   "outputs": [
    {
     "data": {
      "application/vnd.jupyter.widget-view+json": {
       "model_id": "bdbad7a32eee4ae6955253befcf1344e",
       "version_major": 2,
       "version_minor": 0
      },
      "text/plain": [
       "Figure(axes=[Axis(scale=LinearScale(), side='bottom'), Axis(orientation='vertical', scale=LinearScale(), side=…"
      ]
     },
     "execution_count": 114,
     "metadata": {},
     "output_type": "execute_result"
    }
   ],
   "source": [
    "fig"
   ]
  },
  {
   "cell_type": "code",
   "execution_count": 120,
   "id": "3d6ae2f8-b610-4e43-ae59-516cbb7788e5",
   "metadata": {},
   "outputs": [],
   "source": [
    "tv = ipywidgets.Text()"
   ]
  },
  {
   "cell_type": "code",
   "execution_count": 121,
   "id": "1836a453-c0c8-4201-95ac-5d4b97f4cea7",
   "metadata": {},
   "outputs": [
    {
     "data": {
      "text/plain": [
       "<traitlets.traitlets.link at 0x7fdc97a59f50>"
      ]
     },
     "execution_count": 121,
     "metadata": {},
     "output_type": "execute_result"
    }
   ],
   "source": [
    "traitlets.link((tv, \"value\"), (x_ax, \"label\"))"
   ]
  },
  {
   "cell_type": "code",
   "execution_count": 122,
   "id": "9f709e18-baef-438a-b2bb-f976fed8eff4",
   "metadata": {},
   "outputs": [
    {
     "data": {
      "application/vnd.jupyter.widget-view+json": {
       "model_id": "567285aad47d47f6b52ba1a874efb869",
       "version_major": 2,
       "version_minor": 0
      },
      "text/plain": [
       "Text(value='')"
      ]
     },
     "execution_count": 122,
     "metadata": {},
     "output_type": "execute_result"
    }
   ],
   "source": [
    "tv"
   ]
  },
  {
   "cell_type": "code",
   "execution_count": 123,
   "id": "7e73bbfc-a413-482f-9667-48f1e1b21b2c",
   "metadata": {},
   "outputs": [],
   "source": [
    "lines.y = np.cos(x)"
   ]
  },
  {
   "cell_type": "code",
   "execution_count": 124,
   "id": "fb341c55-7570-4730-8ebe-9596e91d7254",
   "metadata": {},
   "outputs": [
    {
     "data": {
      "application/vnd.jupyter.widget-view+json": {
       "model_id": "bdbad7a32eee4ae6955253befcf1344e",
       "version_major": 2,
       "version_minor": 0
      },
      "text/plain": [
       "Figure(axes=[Axis(label='This is my label.  Right here!', scale=LinearScale(), side='bottom'), Axis(orientatio…"
      ]
     },
     "execution_count": 124,
     "metadata": {},
     "output_type": "execute_result"
    }
   ],
   "source": [
    "fig"
   ]
  },
  {
   "cell_type": "code",
   "execution_count": 133,
   "id": "007a312a-a067-46af-beb7-03e116ee82fd",
   "metadata": {},
   "outputs": [],
   "source": [
    "fis = bqplot.interacts.FastIntervalSelector(scale = x_sc)"
   ]
  },
  {
   "cell_type": "code",
   "execution_count": 134,
   "id": "39b967b1-decb-4ac2-856b-6a870b55970b",
   "metadata": {},
   "outputs": [],
   "source": [
    "fig = bqplot.Figure(marks = [lines], axes = [x_ax, y_ax], interaction = fis)"
   ]
  },
  {
   "cell_type": "code",
   "execution_count": 135,
   "id": "3ac419d4-84ea-4042-b416-1042ce81cca2",
   "metadata": {},
   "outputs": [
    {
     "data": {
      "application/vnd.jupyter.widget-view+json": {
       "model_id": "bcbba90e7b524dc2ba86ef124ee60612",
       "version_major": 2,
       "version_minor": 0
      },
      "text/plain": [
       "Figure(axes=[Axis(label='This is my label.  Right here!', scale=LinearScale(), side='bottom'), Axis(orientatio…"
      ]
     },
     "execution_count": 135,
     "metadata": {},
     "output_type": "execute_result"
    }
   ],
   "source": [
    "fig"
   ]
  },
  {
   "cell_type": "code",
   "execution_count": 136,
   "id": "f9d96525-a2c6-441d-9fa3-75998447947b",
   "metadata": {},
   "outputs": [
    {
     "data": {
      "text/plain": [
       "array([3.86636637, 5.53303303])"
      ]
     },
     "execution_count": 136,
     "metadata": {},
     "output_type": "execute_result"
    }
   ],
   "source": [
    "fis.selected"
   ]
  },
  {
   "cell_type": "code",
   "execution_count": 137,
   "id": "1613e178-ca60-4ed4-80ad-d857869926d1",
   "metadata": {},
   "outputs": [],
   "source": [
    "import pandas as pd"
   ]
  },
  {
   "cell_type": "code",
   "execution_count": 138,
   "id": "dcf0b3df-3b2c-42f7-8dfe-766931c33254",
   "metadata": {},
   "outputs": [],
   "source": [
    "df = pd.read_csv(\"building_inventory.csv\",\n",
    "                 na_values = {'Year Acquired': 0, 'Year Constructed': 0},\n",
    "                 parse_dates = [\"Year Acquired\", \"Year Constructed\"])"
   ]
  },
  {
   "cell_type": "code",
   "execution_count": null,
   "id": "dba259a8-d38d-4564-b528-7857a24ba213",
   "metadata": {},
   "outputs": [],
   "source": [
    "x_sc = bqplot.DateScale()\n",
    "y_sc = bqplot.LinearScale()\n",
    "x_ax = bqplot.Axis(scale = x_sc)\n",
    "y_ax = bqplot.Axis(scale = y_sc, orientation = 'vertical')\n",
    "points = bqplot.Scatter(x = df[\"Year Acquired\"], y = df[\"Square Footage\"], scales = {'x': x_sc, 'y': y_sc})\n",
    "\n",
    "fig = bqplot.Figure(marks = [points], axes = [x_ax, y_ax])\n",
    "x_sc.min = df[\"Year Acquired\"].min()\n",
    "\n",
    "display(fig)"
   ]
  },
  {
   "cell_type": "code",
   "execution_count": 156,
   "id": "d8df7bba-a9f9-4031-9116-48a6ce44bce8",
   "metadata": {},
   "outputs": [
    {
     "data": {
      "application/vnd.jupyter.widget-view+json": {
       "model_id": "513db9edaa8b4ecea3f1a6845f555869",
       "version_major": 2,
       "version_minor": 0
      },
      "text/plain": [
       "HTML(value='')"
      ]
     },
     "metadata": {},
     "output_type": "display_data"
    }
   ],
   "source": [
    "h = ipywidgets.HTML()\n",
    "display(h)"
   ]
  },
  {
   "cell_type": "code",
   "execution_count": 146,
   "id": "d21355fa-8117-4bb4-bb63-43c368b2eb1b",
   "metadata": {},
   "outputs": [],
   "source": [
    "fis = bqplot.interacts.FastIntervalSelector(scale = x_sc)"
   ]
  },
  {
   "cell_type": "code",
   "execution_count": 147,
   "id": "12df28cf-380a-4fd1-96e2-f9c1807c6e40",
   "metadata": {},
   "outputs": [],
   "source": [
    "fig.interaction = fis"
   ]
  },
  {
   "cell_type": "code",
   "execution_count": 157,
   "id": "9367fe4c-f9b2-4174-9bd6-a4a1d634e39b",
   "metadata": {},
   "outputs": [],
   "source": [
    "def on_change_selection(change):\n",
    "    h.value = str(df[\"Square Footage\"][((df[\"Year Acquired\"] > fis.selected[0]) & (df[\"Year Acquired\"] < fis.selected[1]))].sum())\n",
    "fis.observe(on_change_selection, [\"selected\"])"
   ]
  },
  {
   "cell_type": "code",
   "execution_count": 148,
   "id": "1cd92098-fe58-484b-b068-d3eaff6fe7fe",
   "metadata": {},
   "outputs": [
    {
     "data": {
      "text/plain": [
       "array(['1906-11-24T10:22:06.889', '1938-08-22T08:07:15.045'],\n",
       "      dtype='datetime64[ms]')"
      ]
     },
     "execution_count": 148,
     "metadata": {},
     "output_type": "execute_result"
    }
   ],
   "source": [
    "fis.selected"
   ]
  },
  {
   "cell_type": "code",
   "execution_count": 155,
   "id": "476a5c52-a0d2-4120-8487-3b33084870c6",
   "metadata": {},
   "outputs": [
    {
     "data": {
      "text/plain": [
       "39137895"
      ]
     },
     "execution_count": 155,
     "metadata": {},
     "output_type": "execute_result"
    }
   ],
   "source": [
    "df[\"Square Footage\"][((df[\"Year Acquired\"] > fis.selected[0]) & (df[\"Year Acquired\"] < fis.selected[1]))].sum()"
   ]
  },
  {
   "cell_type": "code",
   "execution_count": 158,
   "id": "d4531a3a-17b4-4916-8917-7961c7745839",
   "metadata": {},
   "outputs": [
    {
     "data": {
      "application/vnd.jupyter.widget-view+json": {
       "model_id": "ba4c5bfe718741dc8e15d74020aa6005",
       "version_major": 2,
       "version_minor": 0
      },
      "text/plain": [
       "Figure(axes=[Axis(scale=DateScale(min=Timestamp('1753-01-01 00:00:00')), side='bottom'), Axis(orientation='ver…"
      ]
     },
     "execution_count": 158,
     "metadata": {},
     "output_type": "execute_result"
    }
   ],
   "source": [
    "fig"
   ]
  },
  {
   "cell_type": "code",
   "execution_count": 159,
   "id": "3fb5a98d-1875-41b3-a869-6ea7ff59697d",
   "metadata": {},
   "outputs": [
    {
     "data": {
      "application/vnd.jupyter.widget-view+json": {
       "model_id": "91a19ed947bb406b904274377a57b339",
       "version_major": 2,
       "version_minor": 0
      },
      "text/plain": [
       "HBox(children=(Figure(axes=[Axis(scale=DateScale(min=Timestamp('1753-01-01 00:00:00')), side='bottom'), Axis(o…"
      ]
     },
     "execution_count": 159,
     "metadata": {},
     "output_type": "execute_result"
    }
   ],
   "source": [
    "ipywidgets.HBox([fig, fig])"
   ]
  },
  {
   "cell_type": "code",
   "execution_count": 161,
   "id": "cd2f937b-8dad-4ccf-b3ae-4139c0e5143c",
   "metadata": {},
   "outputs": [
    {
     "data": {
      "application/vnd.jupyter.widget-view+json": {
       "model_id": "3dc20fe576584722bed8c50c7d4ac9f4",
       "version_major": 2,
       "version_minor": 0
      },
      "text/plain": [
       "Figure(axes=[Axis(scale=DateScale(min=Timestamp('1753-01-01 00:00:00'))), Axis(orientation='vertical', scale=L…"
      ]
     },
     "metadata": {},
     "output_type": "display_data"
    }
   ],
   "source": [
    "x_sc = bqplot.DateScale()\n",
    "y_sc = bqplot.LinearScale()\n",
    "x_ax = bqplot.Axis(scale = x_sc)\n",
    "y_ax = bqplot.Axis(scale = y_sc, orientation = 'vertical')\n",
    "points = bqplot.Scatter(x = df[\"Year Acquired\"], y = df[\"Square Footage\"], scales = {'x': x_sc, 'y': y_sc})\n",
    "pz = bqplot.interacts.PanZoom(scales = {'x': [x_sc], 'y': [y_sc]})\n",
    "fig = bqplot.Figure(marks = [points], axes = [x_ax, y_ax], interaction = pz)\n",
    "x_sc.min = df[\"Year Acquired\"].min()\n",
    "\n",
    "display(fig)"
   ]
  },
  {
   "cell_type": "code",
   "execution_count": null,
   "id": "940713c8-3d81-4007-bbd2-c6bf5ea92622",
   "metadata": {},
   "outputs": [],
   "source": []
  }
 ],
 "metadata": {
  "kernelspec": {
   "display_name": "Python 3 (ipykernel)",
   "language": "python",
   "name": "python3"
  },
  "language_info": {
   "codemirror_mode": {
    "name": "ipython",
    "version": 3
   },
   "file_extension": ".py",
   "mimetype": "text/x-python",
   "name": "python",
   "nbconvert_exporter": "python",
   "pygments_lexer": "ipython3",
   "version": "3.11.6"
  }
 },
 "nbformat": 4,
 "nbformat_minor": 5
}
