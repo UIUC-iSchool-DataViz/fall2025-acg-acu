{
 "cells": [
  {
   "cell_type": "code",
   "execution_count": 1,
   "id": "aae26dbd-dcf1-462a-b623-7c88a4d3f2d8",
   "metadata": {},
   "outputs": [],
   "source": [
    "import pandas as pd"
   ]
  },
  {
   "cell_type": "code",
   "execution_count": 8,
   "id": "42829262-9938-40b8-a088-c3d0b45848da",
   "metadata": {},
   "outputs": [],
   "source": [
    "df = pd.read_csv(\"https://raw.githubusercontent.com/nytimes/covid-19-data/refs/heads/master/us-states.csv\",\n",
    "                parse_dates=[\"date\"])"
   ]
  },
  {
   "cell_type": "code",
   "execution_count": 9,
   "id": "eee15037-92dd-4889-9544-3def9d574c61",
   "metadata": {},
   "outputs": [
    {
     "data": {
      "text/html": [
       "<div>\n",
       "<style scoped>\n",
       "    .dataframe tbody tr th:only-of-type {\n",
       "        vertical-align: middle;\n",
       "    }\n",
       "\n",
       "    .dataframe tbody tr th {\n",
       "        vertical-align: top;\n",
       "    }\n",
       "\n",
       "    .dataframe thead th {\n",
       "        text-align: right;\n",
       "    }\n",
       "</style>\n",
       "<table border=\"1\" class=\"dataframe\">\n",
       "  <thead>\n",
       "    <tr style=\"text-align: right;\">\n",
       "      <th></th>\n",
       "      <th>date</th>\n",
       "      <th>state</th>\n",
       "      <th>fips</th>\n",
       "      <th>cases</th>\n",
       "      <th>deaths</th>\n",
       "    </tr>\n",
       "  </thead>\n",
       "  <tbody>\n",
       "    <tr>\n",
       "      <th>0</th>\n",
       "      <td>2020-01-21</td>\n",
       "      <td>Washington</td>\n",
       "      <td>53</td>\n",
       "      <td>1</td>\n",
       "      <td>0</td>\n",
       "    </tr>\n",
       "    <tr>\n",
       "      <th>1</th>\n",
       "      <td>2020-01-22</td>\n",
       "      <td>Washington</td>\n",
       "      <td>53</td>\n",
       "      <td>1</td>\n",
       "      <td>0</td>\n",
       "    </tr>\n",
       "    <tr>\n",
       "      <th>2</th>\n",
       "      <td>2020-01-23</td>\n",
       "      <td>Washington</td>\n",
       "      <td>53</td>\n",
       "      <td>1</td>\n",
       "      <td>0</td>\n",
       "    </tr>\n",
       "    <tr>\n",
       "      <th>3</th>\n",
       "      <td>2020-01-24</td>\n",
       "      <td>Illinois</td>\n",
       "      <td>17</td>\n",
       "      <td>1</td>\n",
       "      <td>0</td>\n",
       "    </tr>\n",
       "    <tr>\n",
       "      <th>4</th>\n",
       "      <td>2020-01-24</td>\n",
       "      <td>Washington</td>\n",
       "      <td>53</td>\n",
       "      <td>1</td>\n",
       "      <td>0</td>\n",
       "    </tr>\n",
       "    <tr>\n",
       "      <th>...</th>\n",
       "      <td>...</td>\n",
       "      <td>...</td>\n",
       "      <td>...</td>\n",
       "      <td>...</td>\n",
       "      <td>...</td>\n",
       "    </tr>\n",
       "    <tr>\n",
       "      <th>61937</th>\n",
       "      <td>2023-03-23</td>\n",
       "      <td>Virginia</td>\n",
       "      <td>51</td>\n",
       "      <td>2298300</td>\n",
       "      <td>23782</td>\n",
       "    </tr>\n",
       "    <tr>\n",
       "      <th>61938</th>\n",
       "      <td>2023-03-23</td>\n",
       "      <td>Washington</td>\n",
       "      <td>53</td>\n",
       "      <td>1940704</td>\n",
       "      <td>15905</td>\n",
       "    </tr>\n",
       "    <tr>\n",
       "      <th>61939</th>\n",
       "      <td>2023-03-23</td>\n",
       "      <td>West Virginia</td>\n",
       "      <td>54</td>\n",
       "      <td>645710</td>\n",
       "      <td>8132</td>\n",
       "    </tr>\n",
       "    <tr>\n",
       "      <th>61940</th>\n",
       "      <td>2023-03-23</td>\n",
       "      <td>Wisconsin</td>\n",
       "      <td>55</td>\n",
       "      <td>2014524</td>\n",
       "      <td>16485</td>\n",
       "    </tr>\n",
       "    <tr>\n",
       "      <th>61941</th>\n",
       "      <td>2023-03-23</td>\n",
       "      <td>Wyoming</td>\n",
       "      <td>56</td>\n",
       "      <td>185800</td>\n",
       "      <td>2014</td>\n",
       "    </tr>\n",
       "  </tbody>\n",
       "</table>\n",
       "<p>61942 rows × 5 columns</p>\n",
       "</div>"
      ],
      "text/plain": [
       "            date          state  fips    cases  deaths\n",
       "0     2020-01-21     Washington    53        1       0\n",
       "1     2020-01-22     Washington    53        1       0\n",
       "2     2020-01-23     Washington    53        1       0\n",
       "3     2020-01-24       Illinois    17        1       0\n",
       "4     2020-01-24     Washington    53        1       0\n",
       "...          ...            ...   ...      ...     ...\n",
       "61937 2023-03-23       Virginia    51  2298300   23782\n",
       "61938 2023-03-23     Washington    53  1940704   15905\n",
       "61939 2023-03-23  West Virginia    54   645710    8132\n",
       "61940 2023-03-23      Wisconsin    55  2014524   16485\n",
       "61941 2023-03-23        Wyoming    56   185800    2014\n",
       "\n",
       "[61942 rows x 5 columns]"
      ]
     },
     "execution_count": 9,
     "metadata": {},
     "output_type": "execute_result"
    }
   ],
   "source": [
    "df"
   ]
  },
  {
   "cell_type": "code",
   "execution_count": 10,
   "id": "eb2267e8-3a5c-4eca-9932-328d923ad682",
   "metadata": {},
   "outputs": [
    {
     "data": {
      "text/plain": [
       "date      datetime64[ns]\n",
       "state             object\n",
       "fips               int64\n",
       "cases              int64\n",
       "deaths             int64\n",
       "dtype: object"
      ]
     },
     "execution_count": 10,
     "metadata": {},
     "output_type": "execute_result"
    }
   ],
   "source": [
    "df.dtypes"
   ]
  },
  {
   "cell_type": "code",
   "execution_count": 11,
   "id": "c57ae99d-9cf0-48d7-a96c-3ce4ba83c5f5",
   "metadata": {},
   "outputs": [],
   "source": [
    "cases_by_date = df.set_index(\"date\")"
   ]
  },
  {
   "cell_type": "code",
   "execution_count": 13,
   "id": "dac03391-e6a1-4aee-a400-14465d26b91d",
   "metadata": {},
   "outputs": [
    {
     "data": {
      "text/plain": [
       "state     Illinois\n",
       "fips            17\n",
       "cases            1\n",
       "deaths           0\n",
       "Name: 2020-01-26 00:00:00, dtype: object"
      ]
     },
     "execution_count": 13,
     "metadata": {},
     "output_type": "execute_result"
    }
   ],
   "source": [
    "cases_by_date.iloc[10]"
   ]
  },
  {
   "cell_type": "code",
   "execution_count": 19,
   "id": "682ebacb-5f35-426f-9733-3a6f9b4d79e1",
   "metadata": {},
   "outputs": [
    {
     "data": {
      "text/html": [
       "<div>\n",
       "<style scoped>\n",
       "    .dataframe tbody tr th:only-of-type {\n",
       "        vertical-align: middle;\n",
       "    }\n",
       "\n",
       "    .dataframe tbody tr th {\n",
       "        vertical-align: top;\n",
       "    }\n",
       "\n",
       "    .dataframe thead th {\n",
       "        text-align: right;\n",
       "    }\n",
       "</style>\n",
       "<table border=\"1\" class=\"dataframe\">\n",
       "  <thead>\n",
       "    <tr style=\"text-align: right;\">\n",
       "      <th></th>\n",
       "      <th>state</th>\n",
       "      <th>fips</th>\n",
       "      <th>cases</th>\n",
       "      <th>deaths</th>\n",
       "    </tr>\n",
       "    <tr>\n",
       "      <th>date</th>\n",
       "      <th></th>\n",
       "      <th></th>\n",
       "      <th></th>\n",
       "      <th></th>\n",
       "    </tr>\n",
       "  </thead>\n",
       "  <tbody>\n",
       "    <tr>\n",
       "      <th>2022-01-01</th>\n",
       "      <td>Alabama</td>\n",
       "      <td>1</td>\n",
       "      <td>896614</td>\n",
       "      <td>16455</td>\n",
       "    </tr>\n",
       "    <tr>\n",
       "      <th>2022-01-01</th>\n",
       "      <td>Alaska</td>\n",
       "      <td>2</td>\n",
       "      <td>156130</td>\n",
       "      <td>954</td>\n",
       "    </tr>\n",
       "    <tr>\n",
       "      <th>2022-01-01</th>\n",
       "      <td>American Samoa</td>\n",
       "      <td>60</td>\n",
       "      <td>11</td>\n",
       "      <td>0</td>\n",
       "    </tr>\n",
       "    <tr>\n",
       "      <th>2022-01-01</th>\n",
       "      <td>Arizona</td>\n",
       "      <td>4</td>\n",
       "      <td>1389708</td>\n",
       "      <td>24354</td>\n",
       "    </tr>\n",
       "    <tr>\n",
       "      <th>2022-01-01</th>\n",
       "      <td>Arkansas</td>\n",
       "      <td>5</td>\n",
       "      <td>570641</td>\n",
       "      <td>9180</td>\n",
       "    </tr>\n",
       "    <tr>\n",
       "      <th>...</th>\n",
       "      <td>...</td>\n",
       "      <td>...</td>\n",
       "      <td>...</td>\n",
       "      <td>...</td>\n",
       "    </tr>\n",
       "    <tr>\n",
       "      <th>2023-02-28</th>\n",
       "      <td>Virginia</td>\n",
       "      <td>51</td>\n",
       "      <td>2287440</td>\n",
       "      <td>23738</td>\n",
       "    </tr>\n",
       "    <tr>\n",
       "      <th>2023-02-28</th>\n",
       "      <td>Washington</td>\n",
       "      <td>53</td>\n",
       "      <td>1924418</td>\n",
       "      <td>15668</td>\n",
       "    </tr>\n",
       "    <tr>\n",
       "      <th>2023-02-28</th>\n",
       "      <td>West Virginia</td>\n",
       "      <td>54</td>\n",
       "      <td>640150</td>\n",
       "      <td>8048</td>\n",
       "    </tr>\n",
       "    <tr>\n",
       "      <th>2023-02-28</th>\n",
       "      <td>Wisconsin</td>\n",
       "      <td>55</td>\n",
       "      <td>2000875</td>\n",
       "      <td>16377</td>\n",
       "    </tr>\n",
       "    <tr>\n",
       "      <th>2023-02-28</th>\n",
       "      <td>Wyoming</td>\n",
       "      <td>56</td>\n",
       "      <td>185159</td>\n",
       "      <td>2002</td>\n",
       "    </tr>\n",
       "  </tbody>\n",
       "</table>\n",
       "<p>23744 rows × 4 columns</p>\n",
       "</div>"
      ],
      "text/plain": [
       "                     state  fips    cases  deaths\n",
       "date                                             \n",
       "2022-01-01         Alabama     1   896614   16455\n",
       "2022-01-01          Alaska     2   156130     954\n",
       "2022-01-01  American Samoa    60       11       0\n",
       "2022-01-01         Arizona     4  1389708   24354\n",
       "2022-01-01        Arkansas     5   570641    9180\n",
       "...                    ...   ...      ...     ...\n",
       "2023-02-28        Virginia    51  2287440   23738\n",
       "2023-02-28      Washington    53  1924418   15668\n",
       "2023-02-28   West Virginia    54   640150    8048\n",
       "2023-02-28       Wisconsin    55  2000875   16377\n",
       "2023-02-28         Wyoming    56   185159    2002\n",
       "\n",
       "[23744 rows x 4 columns]"
      ]
     },
     "execution_count": 19,
     "metadata": {},
     "output_type": "execute_result"
    }
   ],
   "source": [
    "cases_by_date.loc[\"January 01, 2022\":\"February 28, 2023\"]"
   ]
  },
  {
   "cell_type": "code",
   "execution_count": 24,
   "id": "fca9d456-4c86-4326-92ec-2f3448b318a1",
   "metadata": {},
   "outputs": [
    {
     "data": {
      "text/plain": [
       "date\n",
       "2020-01-21            1\n",
       "2020-01-22            1\n",
       "2020-01-23            1\n",
       "2020-01-24            2\n",
       "2020-01-25            3\n",
       "                ...    \n",
       "2023-03-19    103784916\n",
       "2023-03-20    103794703\n",
       "2023-03-21    103813076\n",
       "2023-03-22    103864888\n",
       "2023-03-23    103910034\n",
       "Name: cases, Length: 1158, dtype: int64"
      ]
     },
     "execution_count": 24,
     "metadata": {},
     "output_type": "execute_result"
    }
   ],
   "source": [
    "us_cases_by_date = cases_by_date.groupby(\"date\")[\"cases\"].sum()\n",
    "us_cases_by_date"
   ]
  },
  {
   "cell_type": "code",
   "execution_count": 23,
   "id": "e7d56303-004a-403e-a1d7-da28770d386a",
   "metadata": {},
   "outputs": [],
   "source": [
    "import bqplot"
   ]
  },
  {
   "cell_type": "code",
   "execution_count": 26,
   "id": "90adf4e1-e346-4bc4-84aa-27914508c897",
   "metadata": {},
   "outputs": [
    {
     "data": {
      "text/plain": [
       "array([        1,         1,         1, ..., 103813076, 103864888,\n",
       "       103910034])"
      ]
     },
     "execution_count": 26,
     "metadata": {},
     "output_type": "execute_result"
    }
   ],
   "source": [
    "us_cases_by_date.values"
   ]
  },
  {
   "cell_type": "code",
   "execution_count": 32,
   "id": "eea6c792-002c-4b23-8fba-cfa52c378c0d",
   "metadata": {},
   "outputs": [],
   "source": [
    "import numpy as np"
   ]
  },
  {
   "cell_type": "code",
   "execution_count": 38,
   "id": "12f1fa28-8b1e-4972-bf5f-74d069be5b83",
   "metadata": {},
   "outputs": [
    {
     "data": {
      "application/vnd.jupyter.widget-view+json": {
       "model_id": "95fb9dc73599434f8ef33ab9f72e8114",
       "version_major": 2,
       "version_minor": 0
      },
      "text/plain": [
       "Figure(axes=[Axis(scale=DateScale()), Axis(orientation='vertical', scale=LinearScale())], fig_margin={'top': 6…"
      ]
     },
     "metadata": {},
     "output_type": "display_data"
    }
   ],
   "source": [
    "x_sc = bqplot.DateScale()\n",
    "y_sc = bqplot.LinearScale()\n",
    "\n",
    "x_ax = bqplot.Axis(scale = x_sc)\n",
    "y_ax = bqplot.Axis(scale = y_sc, orientation = 'vertical')\n",
    "\n",
    "pan_zoom = bqplot.interacts.PanZoom(scales = {'x': [x_sc], 'y': [y_sc]})\n",
    "\n",
    "line = bqplot.Lines(x = us_cases_by_date.index, y = us_cases_by_date.values, scales = {'x': x_sc, 'y': y_sc})\n",
    "figure = bqplot.Figure(marks = [line], axes = [x_ax, y_ax], interaction = pan_zoom)\n",
    "display(figure)"
   ]
  },
  {
   "cell_type": "code",
   "execution_count": 39,
   "id": "cca9c337-3d75-4a90-a55b-210b2cb7e446",
   "metadata": {},
   "outputs": [],
   "source": [
    "us_state_map = bqplot.topo_load(\"map_data/USStatesMap.json\")"
   ]
  },
  {
   "cell_type": "code",
   "execution_count": 45,
   "id": "98f2f00b-efb2-454f-8027-fa157187b6ec",
   "metadata": {},
   "outputs": [
    {
     "data": {
      "application/vnd.jupyter.widget-view+json": {
       "model_id": "419d83ede89d4b859595db9d6e278aae",
       "version_major": 2,
       "version_minor": 0
      },
      "text/plain": [
       "Figure(axes=[ColorAxis(scale=ColorScale())], fig_margin={'top': 60, 'bottom': 60, 'left': 60, 'right': 60}, ma…"
      ]
     },
     "metadata": {},
     "output_type": "display_data"
    }
   ],
   "source": [
    "proj_scale = bqplot.AlbersUSA()\n",
    "color_scale = bqplot.ColorScale()\n",
    "\n",
    "color_axis = bqplot.ColorAxis(scale = color_scale)\n",
    "\n",
    "map_mark = bqplot.Map(map_data = us_state_map,\n",
    "                      color = cases_by_date.groupby(\"fips\")[\"cases\"].max().to_dict(),\n",
    "                      scales = {'projection': proj_scale, 'color': color_scale})\n",
    "\n",
    "figure = bqplot.Figure(marks = [map_mark], axes = [color_axis])\n",
    "display(figure)"
   ]
  },
  {
   "cell_type": "code",
   "execution_count": 46,
   "id": "e5ee2f55-0181-429e-99f1-57c9f9069266",
   "metadata": {},
   "outputs": [],
   "source": [
    "import ipywidgets"
   ]
  },
  {
   "cell_type": "code",
   "execution_count": 74,
   "id": "e7ed01c6-3f56-4d43-8c13-f62c87c9ec5a",
   "metadata": {},
   "outputs": [
    {
     "data": {
      "application/vnd.jupyter.widget-view+json": {
       "model_id": "670e8dceef95435094535ecb7d4f6ce2",
       "version_major": 2,
       "version_minor": 0
      },
      "text/plain": [
       "VBox(children=(DatePicker(value=None, step=1), HBox(children=(Figure(axes=[Axis(scale=DateScale()), Axis(orien…"
      ]
     },
     "execution_count": 74,
     "metadata": {},
     "output_type": "execute_result"
    }
   ],
   "source": [
    "x_sc = bqplot.DateScale()\n",
    "y_sc = bqplot.LinearScale()\n",
    "\n",
    "x_ax = bqplot.Axis(scale = x_sc)\n",
    "y_ax = bqplot.Axis(scale = y_sc, orientation = 'vertical')\n",
    "\n",
    "pan_zoom = bqplot.interacts.PanZoom(scales = {'x': [x_sc], 'y': [y_sc]})\n",
    "\n",
    "line = bqplot.Lines(x = us_cases_by_date.index, y = us_cases_by_date.values, scales = {'x': x_sc, 'y': y_sc})\n",
    "line_figure = bqplot.Figure(marks = [line], axes = [x_ax, y_ax], interaction = pan_zoom)\n",
    "\n",
    "proj_scale = bqplot.AlbersUSA()\n",
    "color_scale = bqplot.ColorScale()\n",
    "\n",
    "color_axis = bqplot.ColorAxis(scale = color_scale)\n",
    "\n",
    "map_mark = bqplot.Map(map_data = us_state_map,\n",
    "                      color = cases_by_date.groupby(\"fips\")[\"cases\"].max().to_dict(),\n",
    "                      scales = {'projection': proj_scale, 'color': color_scale})\n",
    "\n",
    "map_figure = bqplot.Figure(marks = [map_mark], axes = [color_axis])\n",
    "\n",
    "date_picker = ipywidgets.DatePicker()\n",
    "\n",
    "def on_pick_date(change):\n",
    "    new_date = pd.to_datetime(change['new'])\n",
    "    map_mark.color = cases_by_date.loc[new_date].groupby(\"fips\")[\"cases\"].max().to_dict()\n",
    "\n",
    "date_picker.observe(on_pick_date, [\"value\"])\n",
    "\n",
    "hb = ipywidgets.VBox([date_picker, ipywidgets.HBox([line_figure, map_figure])])\n",
    "\n",
    "map_figure.layout.width = '50%'\n",
    "line_figure.layout.width = '50%'\n",
    "hb.layout.width = '100%'\n",
    "hb.layout.height = '100%'\n",
    "hb"
   ]
  },
  {
   "cell_type": "code",
   "execution_count": 95,
   "id": "2b1ae7b1-6cdb-4b3c-b95b-14bc45e7e4b6",
   "metadata": {},
   "outputs": [
    {
     "data": {
      "application/vnd.jupyter.widget-view+json": {
       "model_id": "d356bc022a184d048d5f7487d8530d64",
       "version_major": 2,
       "version_minor": 0
      },
      "text/plain": [
       "VBox(children=(Label(value=''), HBox(children=(Figure(axes=[Axis(scale=DateScale()), Axis(orientation='vertica…"
      ]
     },
     "execution_count": 95,
     "metadata": {},
     "output_type": "execute_result"
    }
   ],
   "source": [
    "x_sc = bqplot.DateScale()\n",
    "y_sc = bqplot.LinearScale()\n",
    "\n",
    "x_ax = bqplot.Axis(scale = x_sc)\n",
    "y_ax = bqplot.Axis(scale = y_sc, orientation = 'vertical')\n",
    "\n",
    "fi_sel = bqplot.interacts.FastIntervalSelector(scale = x_sc)\n",
    "\n",
    "line = bqplot.Lines(x = us_cases_by_date.index, y = us_cases_by_date.values, scales = {'x': x_sc, 'y': y_sc})\n",
    "line_figure = bqplot.Figure(marks = [line], axes = [x_ax, y_ax], interaction = fi_sel)\n",
    "\n",
    "def change_selection(change):\n",
    "    if change['new'] is not None and change['new'].size > 0:\n",
    "        start, stop = change['new']\n",
    "        values = cases_by_date.loc[pd.to_datetime(start):pd.to_datetime(stop)].groupby(\"fips\")\n",
    "        v1 = values[\"cases\"].min()\n",
    "        v2 = values[\"cases\"].max()\n",
    "        delta_cases.value = f\"Difference of {(v2 - v1).sum():0.2e}\"\n",
    "        map_mark.color = (v2 - v1).to_dict()\n",
    "\n",
    "delta_cases = ipywidgets.Label()\n",
    "\n",
    "fi_sel.observe(change_selection, \"selected\")\n",
    "\n",
    "proj_scale = bqplot.AlbersUSA()\n",
    "color_scale = bqplot.ColorScale()\n",
    "\n",
    "color_axis = bqplot.ColorAxis(scale = color_scale)\n",
    "\n",
    "map_mark = bqplot.Map(map_data = us_state_map,\n",
    "                      color = cases_by_date.groupby(\"fips\")[\"cases\"].max().to_dict(),\n",
    "                      scales = {'projection': proj_scale, 'color': color_scale})\n",
    "\n",
    "map_figure = bqplot.Figure(marks = [map_mark], axes = [color_axis])\n",
    "\n",
    "hb = ipywidgets.VBox([delta_cases, ipywidgets.HBox([line_figure, map_figure])])\n",
    "\n",
    "map_figure.layout.width = '50%'\n",
    "line_figure.layout.width = '50%'\n",
    "hb.layout.width = '100%'\n",
    "hb.layout.height = '100%'\n",
    "hb"
   ]
  },
  {
   "cell_type": "code",
   "execution_count": 94,
   "id": "37155083-62a7-40a4-8afd-9a5404a5cc1f",
   "metadata": {},
   "outputs": [],
   "source": [
    "fi_sel.selected"
   ]
  },
  {
   "cell_type": "code",
   "execution_count": null,
   "id": "81a2596a-ad3f-498b-a771-3ec273ffaa39",
   "metadata": {},
   "outputs": [],
   "source": []
  }
 ],
 "metadata": {
  "kernelspec": {
   "display_name": "Python 3 (ipykernel)",
   "language": "python",
   "name": "python3"
  },
  "language_info": {
   "codemirror_mode": {
    "name": "ipython",
    "version": 3
   },
   "file_extension": ".py",
   "mimetype": "text/x-python",
   "name": "python",
   "nbconvert_exporter": "python",
   "pygments_lexer": "ipython3",
   "version": "3.11.6"
  }
 },
 "nbformat": 4,
 "nbformat_minor": 5
}
